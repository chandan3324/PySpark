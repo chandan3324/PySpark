{
  "nbformat": 4,
  "nbformat_minor": 0,
  "metadata": {
    "colab": {
      "provenance": [],
      "authorship_tag": "ABX9TyMz3FMAWSPN/xLxlrFEhgmG",
      "include_colab_link": true
    },
    "kernelspec": {
      "name": "python3",
      "display_name": "Python 3"
    },
    "language_info": {
      "name": "python"
    }
  },
  "cells": [
    {
      "cell_type": "markdown",
      "metadata": {
        "id": "view-in-github",
        "colab_type": "text"
      },
      "source": [
        "<a href=\"https://colab.research.google.com/github/chandan3324/PySpark/blob/main/2_Pyspark_Handling_Missing_values.ipynb\" target=\"_parent\"><img src=\"https://colab.research.google.com/assets/colab-badge.svg\" alt=\"Open In Colab\"/></a>"
      ]
    },
    {
      "cell_type": "markdown",
      "source": [
        "# Pyspark Handling missing values\n",
        "1. Dropping Columns\n",
        "2. Dropping Rows\n",
        "3. Various Parameter in Dropping functionalities\n",
        "4. Handling Missing values by Mean, Median, Mode"
      ],
      "metadata": {
        "id": "cPYaMit9uELP"
      }
    },
    {
      "cell_type": "code",
      "execution_count": 10,
      "metadata": {
        "id": "S_h-meast-gJ"
      },
      "outputs": [],
      "source": [
        "from pyspark.sql import SparkSession\n",
        "spark = SparkSession.builder.appName('Practise').getOrCreate()"
      ]
    },
    {
      "cell_type": "code",
      "source": [
        "df_pyspark = spark.read.csv('test2.csv', header=True, inferSchema=True)"
      ],
      "metadata": {
        "id": "XK6RBQ4ju6sp"
      },
      "execution_count": 11,
      "outputs": []
    },
    {
      "cell_type": "code",
      "source": [
        "df_pyspark.show()"
      ],
      "metadata": {
        "colab": {
          "base_uri": "https://localhost:8080/"
        },
        "id": "sGh-p0qHvyGT",
        "outputId": "2ad33223-cf17-471f-ca8e-dade2c9d87f6"
      },
      "execution_count": 12,
      "outputs": [
        {
          "output_type": "stream",
          "name": "stdout",
          "text": [
            "+-------+----+----------+------+\n",
            "|  Name |Age |Experience|Salary|\n",
            "+-------+----+----------+------+\n",
            "|Chandan|  22|         2| 50000|\n",
            "|  Akhil|  22|         3| 35000|\n",
            "| Aditya|  24|         4| 50000|\n",
            "|Sandeep|NULL|         2|  NULL|\n",
            "|   NULL|  25|      NULL| 62222|\n",
            "|   Ajay|  23|         2|  NULL|\n",
            "+-------+----+----------+------+\n",
            "\n"
          ]
        }
      ]
    },
    {
      "cell_type": "code",
      "source": [
        "### Drop the columns\n",
        "\n",
        "df_pyspark.drop('Name ').show()"
      ],
      "metadata": {
        "colab": {
          "base_uri": "https://localhost:8080/"
        },
        "id": "zqL9j6BGv-IO",
        "outputId": "7f6ffc4a-3439-4e79-f62b-3106545c69fb"
      },
      "execution_count": 33,
      "outputs": [
        {
          "output_type": "stream",
          "name": "stdout",
          "text": [
            "+----+----------+------+\n",
            "|Age |Experience|Salary|\n",
            "+----+----------+------+\n",
            "|  22|         2| 50000|\n",
            "|  22|         3| 35000|\n",
            "|  24|         4| 50000|\n",
            "|NULL|         2|  NULL|\n",
            "|  25|      NULL| 62222|\n",
            "|  23|         2|  NULL|\n",
            "+----+----------+------+\n",
            "\n"
          ]
        }
      ]
    },
    {
      "cell_type": "code",
      "source": [
        "df_pyspark.na.drop().show()"
      ],
      "metadata": {
        "colab": {
          "base_uri": "https://localhost:8080/"
        },
        "id": "hF6o7O3twIUn",
        "outputId": "9d75ba52-8361-431d-8058-a44f9eb69992"
      },
      "execution_count": 22,
      "outputs": [
        {
          "output_type": "stream",
          "name": "stdout",
          "text": [
            "+-------+----+----------+------+\n",
            "|  Name |Age |Experience|Salary|\n",
            "+-------+----+----------+------+\n",
            "|Chandan|  22|         2| 50000|\n",
            "|  Akhil|  22|         3| 35000|\n",
            "| Aditya|  24|         4| 50000|\n",
            "+-------+----+----------+------+\n",
            "\n"
          ]
        }
      ]
    },
    {
      "cell_type": "code",
      "source": [
        "### For how == any\n",
        "df_pyspark.na.drop(how = 'any').show()"
      ],
      "metadata": {
        "colab": {
          "base_uri": "https://localhost:8080/"
        },
        "id": "ZhtxtDyVx-Hg",
        "outputId": "93a55a89-2c4b-4c71-fea9-64dae1ae0753"
      },
      "execution_count": 23,
      "outputs": [
        {
          "output_type": "stream",
          "name": "stdout",
          "text": [
            "+-------+----+----------+------+\n",
            "|  Name |Age |Experience|Salary|\n",
            "+-------+----+----------+------+\n",
            "|Chandan|  22|         2| 50000|\n",
            "|  Akhil|  22|         3| 35000|\n",
            "| Aditya|  24|         4| 50000|\n",
            "+-------+----+----------+------+\n",
            "\n"
          ]
        }
      ]
    },
    {
      "cell_type": "code",
      "source": [
        " ### How = all\n",
        "\n",
        " df_pyspark.na.drop(how = 'all').show()"
      ],
      "metadata": {
        "colab": {
          "base_uri": "https://localhost:8080/"
        },
        "id": "C_UrA5Guycjo",
        "outputId": "395d0112-7f6c-42a5-a8a3-e2d645e5757f"
      },
      "execution_count": 24,
      "outputs": [
        {
          "output_type": "stream",
          "name": "stdout",
          "text": [
            "+-------+----+----------+------+\n",
            "|  Name |Age |Experience|Salary|\n",
            "+-------+----+----------+------+\n",
            "|Chandan|  22|         2| 50000|\n",
            "|  Akhil|  22|         3| 35000|\n",
            "| Aditya|  24|         4| 50000|\n",
            "|Sandeep|NULL|         2|  NULL|\n",
            "|   NULL|  25|      NULL| 62222|\n",
            "|   Ajay|  23|         2|  NULL|\n",
            "+-------+----+----------+------+\n",
            "\n"
          ]
        }
      ]
    },
    {
      "cell_type": "code",
      "source": [
        "### Treshold i.e at least 3 non-null values should be present\n",
        "\n",
        "df_pyspark.na.drop(how = 'any', thresh = 3).show()"
      ],
      "metadata": {
        "colab": {
          "base_uri": "https://localhost:8080/"
        },
        "id": "_PwyivDOylsH",
        "outputId": "29e30ca5-1da9-45d0-d587-05e79ca1c0a7"
      },
      "execution_count": 28,
      "outputs": [
        {
          "output_type": "stream",
          "name": "stdout",
          "text": [
            "+-------+----+----------+------+\n",
            "|  Name |Age |Experience|Salary|\n",
            "+-------+----+----------+------+\n",
            "|Chandan|  22|         2| 50000|\n",
            "|  Akhil|  22|         3| 35000|\n",
            "| Aditya|  24|         4| 50000|\n",
            "|   Ajay|  23|         2|  NULL|\n",
            "+-------+----+----------+------+\n",
            "\n"
          ]
        }
      ]
    },
    {
      "cell_type": "code",
      "source": [
        "### Subset\n",
        "\n",
        "df_pyspark.na.drop(how = 'any', subset = ['Name ']).show()"
      ],
      "metadata": {
        "colab": {
          "base_uri": "https://localhost:8080/"
        },
        "id": "Tl_nX7Aty1sP",
        "outputId": "27f41eae-a2e5-4248-9c0f-3e3e9afb4e92"
      },
      "execution_count": 35,
      "outputs": [
        {
          "output_type": "stream",
          "name": "stdout",
          "text": [
            "+-------+----+----------+------+\n",
            "|  Name |Age |Experience|Salary|\n",
            "+-------+----+----------+------+\n",
            "|Chandan|  22|         2| 50000|\n",
            "|  Akhil|  22|         3| 35000|\n",
            "| Aditya|  24|         4| 50000|\n",
            "|Sandeep|NULL|         2|  NULL|\n",
            "|   Ajay|  23|         2|  NULL|\n",
            "+-------+----+----------+------+\n",
            "\n"
          ]
        }
      ]
    },
    {
      "cell_type": "code",
      "source": [
        "### Filling the missing values\n",
        "df_pyspark.na.fill(0, ['Experience', 'Age ']).show()"
      ],
      "metadata": {
        "colab": {
          "base_uri": "https://localhost:8080/"
        },
        "id": "OumXvmJYzkgt",
        "outputId": "364e61d2-cb45-4226-c280-70eba3d4ecac"
      },
      "execution_count": 47,
      "outputs": [
        {
          "output_type": "stream",
          "name": "stdout",
          "text": [
            "+-------+----+----------+------+\n",
            "|  Name |Age |Experience|Salary|\n",
            "+-------+----+----------+------+\n",
            "|Chandan|  22|         2| 50000|\n",
            "|  Akhil|  22|         3| 35000|\n",
            "| Aditya|  24|         4| 50000|\n",
            "|Sandeep|   0|         2|  NULL|\n",
            "|   NULL|  25|         0| 62222|\n",
            "|   Ajay|  23|         2|  NULL|\n",
            "+-------+----+----------+------+\n",
            "\n"
          ]
        }
      ]
    },
    {
      "cell_type": "code",
      "source": [
        "df_pyspark.show()"
      ],
      "metadata": {
        "colab": {
          "base_uri": "https://localhost:8080/"
        },
        "id": "0Mq6c5Rt2TDj",
        "outputId": "cf741716-8c1d-4e80-d691-2c8e3b993252"
      },
      "execution_count": 49,
      "outputs": [
        {
          "output_type": "stream",
          "name": "stdout",
          "text": [
            "+-------+----+----------+------+\n",
            "|  Name |Age |Experience|Salary|\n",
            "+-------+----+----------+------+\n",
            "|Chandan|  22|         2| 50000|\n",
            "|  Akhil|  22|         3| 35000|\n",
            "| Aditya|  24|         4| 50000|\n",
            "|Sandeep|NULL|         2|  NULL|\n",
            "|   NULL|  25|      NULL| 62222|\n",
            "|   Ajay|  23|         2|  NULL|\n",
            "+-------+----+----------+------+\n",
            "\n"
          ]
        }
      ]
    },
    {
      "cell_type": "code",
      "source": [
        "from pyspark.ml.feature import Imputer\n",
        "\n",
        "imputer = Imputer(\n",
        "    inputCols = ['Age ', 'Experience', 'Salary'],\n",
        "    outputCols = [\"{}_imputed\".format(c) for c in ['Age ', 'Experience', 'Salary']]\n",
        ").setStrategy(\"median\")"
      ],
      "metadata": {
        "id": "nR8A37R83man"
      },
      "execution_count": 52,
      "outputs": []
    },
    {
      "cell_type": "code",
      "source": [
        "imputer.fit(df_pyspark).transform(df_pyspark).show()"
      ],
      "metadata": {
        "colab": {
          "base_uri": "https://localhost:8080/"
        },
        "id": "7ZyWRfoM355Y",
        "outputId": "aaf98077-5e8b-4fd2-8a4a-85a57f8fe76a"
      },
      "execution_count": 53,
      "outputs": [
        {
          "output_type": "stream",
          "name": "stdout",
          "text": [
            "+-------+----+----------+------+------------+------------------+--------------+\n",
            "|  Name |Age |Experience|Salary|Age _imputed|Experience_imputed|Salary_imputed|\n",
            "+-------+----+----------+------+------------+------------------+--------------+\n",
            "|Chandan|  22|         2| 50000|          22|                 2|         50000|\n",
            "|  Akhil|  22|         3| 35000|          22|                 3|         35000|\n",
            "| Aditya|  24|         4| 50000|          24|                 4|         50000|\n",
            "|Sandeep|NULL|         2|  NULL|          23|                 2|         50000|\n",
            "|   NULL|  25|      NULL| 62222|          25|                 2|         62222|\n",
            "|   Ajay|  23|         2|  NULL|          23|                 2|         50000|\n",
            "+-------+----+----------+------+------------+------------------+--------------+\n",
            "\n"
          ]
        }
      ]
    }
  ]
}