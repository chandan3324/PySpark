{
  "nbformat": 4,
  "nbformat_minor": 0,
  "metadata": {
    "colab": {
      "provenance": [],
      "authorship_tag": "ABX9TyP+dBUfK2LlGbaeEn5I3oX8",
      "include_colab_link": true
    },
    "kernelspec": {
      "name": "python3",
      "display_name": "Python 3"
    },
    "language_info": {
      "name": "python"
    }
  },
  "cells": [
    {
      "cell_type": "markdown",
      "metadata": {
        "id": "view-in-github",
        "colab_type": "text"
      },
      "source": [
        "<a href=\"https://colab.research.google.com/github/chandan3324/PySpark/blob/main/3_Filters_operations_in_Python.ipynb\" target=\"_parent\"><img src=\"https://colab.research.google.com/assets/colab-badge.svg\" alt=\"Open In Colab\"/></a>"
      ]
    },
    {
      "cell_type": "markdown",
      "source": [
        "# Filter Operations\n",
        "1. &,|,==\n",
        "2. ~"
      ],
      "metadata": {
        "id": "_c1Hm2-nyj78"
      }
    },
    {
      "cell_type": "code",
      "execution_count": 12,
      "metadata": {
        "id": "_x6H3d09xnLh"
      },
      "outputs": [],
      "source": [
        "from pyspark.sql import SparkSession"
      ]
    },
    {
      "cell_type": "code",
      "source": [
        "spark = SparkSession.builder.appName('dataframe').getOrCreate()"
      ],
      "metadata": {
        "id": "ObBL-pRuy-K5"
      },
      "execution_count": 13,
      "outputs": []
    },
    {
      "cell_type": "code",
      "source": [
        "df_pyspark = spark.read.csv('test2.csv', header=True, inferSchema=True)\n",
        "df_pyspark.show()"
      ],
      "metadata": {
        "colab": {
          "base_uri": "https://localhost:8080/"
        },
        "id": "PrpAqb8JzFle",
        "outputId": "9d444b33-d4dd-48e3-8dab-0499e919fa2e"
      },
      "execution_count": 14,
      "outputs": [
        {
          "output_type": "stream",
          "name": "stdout",
          "text": [
            "+-------+---+----------+------+\n",
            "|   Name|Age|Experience|Salary|\n",
            "+-------+---+----------+------+\n",
            "|Chandan| 22|         2| 50000|\n",
            "|  Akhil| 22|         3| 35000|\n",
            "| Aditya| 24|         4| 50000|\n",
            "|Sandeep| 23|         2| 55000|\n",
            "|  Ishan| 25|         1| 62222|\n",
            "|   Ajay| 23|         2| 57000|\n",
            "+-------+---+----------+------+\n",
            "\n"
          ]
        }
      ]
    },
    {
      "cell_type": "markdown",
      "source": [
        "### Filter operations"
      ],
      "metadata": {
        "id": "6TmkwVaB0lg5"
      }
    },
    {
      "cell_type": "code",
      "source": [
        "### Salary of the people less than or equal to 50000\n",
        "df_pyspark.filter(\"Salary<=50000\").show()"
      ],
      "metadata": {
        "colab": {
          "base_uri": "https://localhost:8080/"
        },
        "id": "Tm5uOiH9za7N",
        "outputId": "7b83a9df-630e-4ee1-cafc-7afb9d0ffe42"
      },
      "execution_count": 16,
      "outputs": [
        {
          "output_type": "stream",
          "name": "stdout",
          "text": [
            "+-------+---+----------+------+\n",
            "|   Name|Age|Experience|Salary|\n",
            "+-------+---+----------+------+\n",
            "|Chandan| 22|         2| 50000|\n",
            "|  Akhil| 22|         3| 35000|\n",
            "| Aditya| 24|         4| 50000|\n",
            "+-------+---+----------+------+\n",
            "\n"
          ]
        }
      ]
    },
    {
      "cell_type": "code",
      "source": [
        "df_pyspark.filter(\"Salary<=50000\").select(['Name', 'Age']).show()"
      ],
      "metadata": {
        "colab": {
          "base_uri": "https://localhost:8080/"
        },
        "id": "UVCFeu1-12-L",
        "outputId": "7a2fe178-53f6-4ab4-af87-0a9ca2e6eb84"
      },
      "execution_count": 17,
      "outputs": [
        {
          "output_type": "stream",
          "name": "stdout",
          "text": [
            "+-------+---+\n",
            "|   Name|Age|\n",
            "+-------+---+\n",
            "|Chandan| 22|\n",
            "|  Akhil| 22|\n",
            "| Aditya| 24|\n",
            "+-------+---+\n",
            "\n"
          ]
        }
      ]
    },
    {
      "cell_type": "code",
      "source": [
        "df_pyspark.filter(df_pyspark['Salary']<=50000).show()"
      ],
      "metadata": {
        "colab": {
          "base_uri": "https://localhost:8080/"
        },
        "id": "QkxLT_pw2YGv",
        "outputId": "94809e1f-d498-42fb-d806-6f5d22145746"
      },
      "execution_count": 18,
      "outputs": [
        {
          "output_type": "stream",
          "name": "stdout",
          "text": [
            "+-------+---+----------+------+\n",
            "|   Name|Age|Experience|Salary|\n",
            "+-------+---+----------+------+\n",
            "|Chandan| 22|         2| 50000|\n",
            "|  Akhil| 22|         3| 35000|\n",
            "| Aditya| 24|         4| 50000|\n",
            "+-------+---+----------+------+\n",
            "\n"
          ]
        }
      ]
    },
    {
      "cell_type": "code",
      "source": [
        "df_pyspark.filter((df_pyspark['Salary']<=50000) &\n",
        "                  (df_pyspark['Salary']>=50000)).show()"
      ],
      "metadata": {
        "colab": {
          "base_uri": "https://localhost:8080/"
        },
        "id": "ust0lRYv3Lnq",
        "outputId": "2c38630e-fa4c-48fc-cf33-ade6fd8baa5b"
      },
      "execution_count": 22,
      "outputs": [
        {
          "output_type": "stream",
          "name": "stdout",
          "text": [
            "+-------+---+----------+------+\n",
            "|   Name|Age|Experience|Salary|\n",
            "+-------+---+----------+------+\n",
            "|Chandan| 22|         2| 50000|\n",
            "| Aditya| 24|         4| 50000|\n",
            "+-------+---+----------+------+\n",
            "\n"
          ]
        }
      ]
    },
    {
      "cell_type": "code",
      "source": [
        "df_pyspark.filter(~(df_pyspark['Salary']<=50000)).show()"
      ],
      "metadata": {
        "colab": {
          "base_uri": "https://localhost:8080/"
        },
        "id": "NpbIvppe3XsJ",
        "outputId": "dc49fa17-4609-4f80-93a3-3a0669b16918"
      },
      "execution_count": 23,
      "outputs": [
        {
          "output_type": "stream",
          "name": "stdout",
          "text": [
            "+-------+---+----------+------+\n",
            "|   Name|Age|Experience|Salary|\n",
            "+-------+---+----------+------+\n",
            "|Sandeep| 23|         2| 55000|\n",
            "|  Ishan| 25|         1| 62222|\n",
            "|   Ajay| 23|         2| 57000|\n",
            "+-------+---+----------+------+\n",
            "\n"
          ]
        }
      ]
    }
  ]
}