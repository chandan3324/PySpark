{
  "nbformat": 4,
  "nbformat_minor": 0,
  "metadata": {
    "colab": {
      "provenance": [],
      "authorship_tag": "ABX9TyN4iicgTjIms/Ylp8l0pfbV",
      "include_colab_link": true
    },
    "kernelspec": {
      "name": "python3",
      "display_name": "Python 3"
    },
    "language_info": {
      "name": "python"
    }
  },
  "cells": [
    {
      "cell_type": "markdown",
      "metadata": {
        "id": "view-in-github",
        "colab_type": "text"
      },
      "source": [
        "<a href=\"https://colab.research.google.com/github/chandan3324/PySpark/blob/main/4_GroupBy_and_Aggregate_in_PySpark.ipynb\" target=\"_parent\"><img src=\"https://colab.research.google.com/assets/colab-badge.svg\" alt=\"Open In Colab\"/></a>"
      ]
    },
    {
      "cell_type": "markdown",
      "source": [
        "# PySpark GroupBy and Aggregate Functions"
      ],
      "metadata": {
        "id": "3aEO551QAXgG"
      }
    },
    {
      "cell_type": "code",
      "execution_count": 20,
      "metadata": {
        "id": "Hj0atN5r-rjT"
      },
      "outputs": [],
      "source": [
        "from pyspark.sql import SparkSession"
      ]
    },
    {
      "cell_type": "code",
      "source": [
        "spark = SparkSession.builder.appName('Agg').getOrCreate()"
      ],
      "metadata": {
        "id": "qFyGq7cvAicW"
      },
      "execution_count": 21,
      "outputs": []
    },
    {
      "cell_type": "code",
      "source": [
        "spark"
      ],
      "metadata": {
        "colab": {
          "base_uri": "https://localhost:8080/",
          "height": 222
        },
        "id": "CwpJ8ya2Auua",
        "outputId": "704158b5-bdde-41cd-93f8-95a38ab6ae8f"
      },
      "execution_count": 22,
      "outputs": [
        {
          "output_type": "execute_result",
          "data": {
            "text/plain": [
              "<pyspark.sql.session.SparkSession at 0x7b7432d961d0>"
            ],
            "text/html": [
              "\n",
              "            <div>\n",
              "                <p><b>SparkSession - in-memory</b></p>\n",
              "                \n",
              "        <div>\n",
              "            <p><b>SparkContext</b></p>\n",
              "\n",
              "            <p><a href=\"http://077d7ae4b572:4040\">Spark UI</a></p>\n",
              "\n",
              "            <dl>\n",
              "              <dt>Version</dt>\n",
              "                <dd><code>v3.5.4</code></dd>\n",
              "              <dt>Master</dt>\n",
              "                <dd><code>local[*]</code></dd>\n",
              "              <dt>AppName</dt>\n",
              "                <dd><code>Agg</code></dd>\n",
              "            </dl>\n",
              "        </div>\n",
              "        \n",
              "            </div>\n",
              "        "
            ]
          },
          "metadata": {},
          "execution_count": 22
        }
      ]
    },
    {
      "cell_type": "code",
      "source": [
        "df_pyspark = spark.read.csv('test3.csv', header=True, inferSchema=True)"
      ],
      "metadata": {
        "id": "VZ7p3_sYA4PW"
      },
      "execution_count": 23,
      "outputs": []
    },
    {
      "cell_type": "code",
      "source": [
        "df_pyspark.show()"
      ],
      "metadata": {
        "colab": {
          "base_uri": "https://localhost:8080/"
        },
        "id": "BabC_9LdBPu6",
        "outputId": "329cd149-957f-4f5f-f41f-afcb05692de1"
      },
      "execution_count": 24,
      "outputs": [
        {
          "output_type": "stream",
          "name": "stdout",
          "text": [
            "+-------+------------+------+\n",
            "|   Name| Departments|Salary|\n",
            "+-------+------------+------+\n",
            "|Chandan|Data Science| 20000|\n",
            "|Chandan|        JAVA| 10000|\n",
            "| Aditya|   Mainframe| 25000|\n",
            "|Sandeep|    Big Data| 21000|\n",
            "|Sandeep|        JAVA| 15000|\n",
            "|  Akhil|Data Science| 30000|\n",
            "| Aditya|   Mainframe| 24000|\n",
            "|  Akhil|Data Science| 15000|\n",
            "|Sandeep|    Big Data| 11000|\n",
            "+-------+------------+------+\n",
            "\n"
          ]
        }
      ]
    },
    {
      "cell_type": "code",
      "source": [
        "df_pyspark.printSchema()"
      ],
      "metadata": {
        "colab": {
          "base_uri": "https://localhost:8080/"
        },
        "id": "vT1vG4FsBVna",
        "outputId": "362e8710-1fb4-4c23-f0be-d67928d65092"
      },
      "execution_count": 25,
      "outputs": [
        {
          "output_type": "stream",
          "name": "stdout",
          "text": [
            "root\n",
            " |-- Name: string (nullable = true)\n",
            " |-- Departments: string (nullable = true)\n",
            " |-- Salary: integer (nullable = true)\n",
            "\n"
          ]
        }
      ]
    },
    {
      "cell_type": "code",
      "source": [
        "df_pyspark.dtypes"
      ],
      "metadata": {
        "colab": {
          "base_uri": "https://localhost:8080/"
        },
        "id": "tspUC8yyB7U1",
        "outputId": "e3d031b0-305e-49a2-99cb-563d5c25bfbc"
      },
      "execution_count": 26,
      "outputs": [
        {
          "output_type": "execute_result",
          "data": {
            "text/plain": [
              "[('Name', 'string'), ('Departments', 'string'), ('Salary', 'int')]"
            ]
          },
          "metadata": {},
          "execution_count": 26
        }
      ]
    },
    {
      "cell_type": "code",
      "source": [
        "## GrouopBy\n",
        "### Grouped to find maximum Salary\n",
        "df_pyspark.groupBy('Name').sum().show()"
      ],
      "metadata": {
        "colab": {
          "base_uri": "https://localhost:8080/"
        },
        "id": "gQGltGFtRgDs",
        "outputId": "2309aec3-540c-46f1-ec68-1894778506d6"
      },
      "execution_count": 28,
      "outputs": [
        {
          "output_type": "stream",
          "name": "stdout",
          "text": [
            "+-------+-----------+\n",
            "|   Name|sum(Salary)|\n",
            "+-------+-----------+\n",
            "|  Akhil|      45000|\n",
            "|Chandan|      30000|\n",
            "| Aditya|      49000|\n",
            "|Sandeep|      47000|\n",
            "+-------+-----------+\n",
            "\n"
          ]
        }
      ]
    },
    {
      "cell_type": "code",
      "source": [
        "### GroupBy Department which gives maximum salary\n",
        "df_pyspark.groupBy('Departments').sum().show()"
      ],
      "metadata": {
        "colab": {
          "base_uri": "https://localhost:8080/"
        },
        "id": "eXewUJQSRpCK",
        "outputId": "3abae704-dff1-4741-fea9-be2981a277b6"
      },
      "execution_count": 31,
      "outputs": [
        {
          "output_type": "stream",
          "name": "stdout",
          "text": [
            "+------------+-----------+\n",
            "| Departments|sum(Salary)|\n",
            "+------------+-----------+\n",
            "|   Mainframe|      49000|\n",
            "|    Big Data|      32000|\n",
            "|Data Science|      65000|\n",
            "|        JAVA|      25000|\n",
            "+------------+-----------+\n",
            "\n"
          ]
        }
      ]
    },
    {
      "cell_type": "code",
      "source": [
        "df_pyspark.groupBy('Departments').mean().show()"
      ],
      "metadata": {
        "colab": {
          "base_uri": "https://localhost:8080/"
        },
        "id": "YpY_lup7WPcm",
        "outputId": "e7eb2fdf-73ff-47ec-8751-a27dd6e2debf"
      },
      "execution_count": 35,
      "outputs": [
        {
          "output_type": "stream",
          "name": "stdout",
          "text": [
            "+------------+------------------+\n",
            "| Departments|       avg(Salary)|\n",
            "+------------+------------------+\n",
            "|   Mainframe|           24500.0|\n",
            "|    Big Data|           16000.0|\n",
            "|Data Science|21666.666666666668|\n",
            "|        JAVA|           12500.0|\n",
            "+------------+------------------+\n",
            "\n"
          ]
        }
      ]
    },
    {
      "cell_type": "code",
      "source": [
        "df_pyspark.groupBy('Departments').count().show()"
      ],
      "metadata": {
        "colab": {
          "base_uri": "https://localhost:8080/"
        },
        "id": "re1j9HMVfpzr",
        "outputId": "956a8924-0356-49f8-f4a1-e51cec7d89c6"
      },
      "execution_count": 36,
      "outputs": [
        {
          "output_type": "stream",
          "name": "stdout",
          "text": [
            "+------------+-----+\n",
            "| Departments|count|\n",
            "+------------+-----+\n",
            "|   Mainframe|    2|\n",
            "|    Big Data|    2|\n",
            "|Data Science|    3|\n",
            "|        JAVA|    2|\n",
            "+------------+-----+\n",
            "\n"
          ]
        }
      ]
    },
    {
      "cell_type": "code",
      "source": [
        "df_pyspark.agg({'Salary': 'sum'}).show()"
      ],
      "metadata": {
        "colab": {
          "base_uri": "https://localhost:8080/"
        },
        "id": "Sp16PM9cgHVp",
        "outputId": "c5ba140d-9cd5-4958-924e-67b33d3807ed"
      },
      "execution_count": 37,
      "outputs": [
        {
          "output_type": "stream",
          "name": "stdout",
          "text": [
            "+-----------+\n",
            "|sum(Salary)|\n",
            "+-----------+\n",
            "|     171000|\n",
            "+-----------+\n",
            "\n"
          ]
        }
      ]
    },
    {
      "cell_type": "code",
      "source": [
        "df_pyspark.groupBy('Name').max().show()"
      ],
      "metadata": {
        "colab": {
          "base_uri": "https://localhost:8080/"
        },
        "id": "8vlOqR0ngcHk",
        "outputId": "a96e7a36-74bb-480b-ee8e-6f8fae7fe5b9"
      },
      "execution_count": 39,
      "outputs": [
        {
          "output_type": "stream",
          "name": "stdout",
          "text": [
            "+-------+-----------+\n",
            "|   Name|max(Salary)|\n",
            "+-------+-----------+\n",
            "|  Akhil|      30000|\n",
            "|Chandan|      20000|\n",
            "| Aditya|      25000|\n",
            "|Sandeep|      21000|\n",
            "+-------+-----------+\n",
            "\n"
          ]
        }
      ]
    },
    {
      "cell_type": "code",
      "source": [
        "df_pyspark.groupBy('Name').min().show()"
      ],
      "metadata": {
        "colab": {
          "base_uri": "https://localhost:8080/"
        },
        "id": "iIIxEnsagozT",
        "outputId": "5cacd547-3778-43cb-f784-e6ab10b5f241"
      },
      "execution_count": 40,
      "outputs": [
        {
          "output_type": "stream",
          "name": "stdout",
          "text": [
            "+-------+-----------+\n",
            "|   Name|min(Salary)|\n",
            "+-------+-----------+\n",
            "|  Akhil|      15000|\n",
            "|Chandan|      10000|\n",
            "| Aditya|      24000|\n",
            "|Sandeep|      11000|\n",
            "+-------+-----------+\n",
            "\n"
          ]
        }
      ]
    },
    {
      "cell_type": "code",
      "source": [
        "df_pyspark.groupBy('Name').avg().show()"
      ],
      "metadata": {
        "colab": {
          "base_uri": "https://localhost:8080/"
        },
        "id": "wd9_PRgGg6Zz",
        "outputId": "bae752cc-d3db-4522-8b52-7f559ed8a437"
      },
      "execution_count": 41,
      "outputs": [
        {
          "output_type": "stream",
          "name": "stdout",
          "text": [
            "+-------+------------------+\n",
            "|   Name|       avg(Salary)|\n",
            "+-------+------------------+\n",
            "|  Akhil|           22500.0|\n",
            "|Chandan|           15000.0|\n",
            "| Aditya|           24500.0|\n",
            "|Sandeep|15666.666666666666|\n",
            "+-------+------------------+\n",
            "\n"
          ]
        }
      ]
    }
  ]
}